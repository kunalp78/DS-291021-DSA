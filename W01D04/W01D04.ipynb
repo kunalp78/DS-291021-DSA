{
 "cells": [
  {
   "cell_type": "code",
   "execution_count": 32,
   "id": "1457de98",
   "metadata": {},
   "outputs": [],
   "source": [
    "class Node:\n",
    "    def __init__(self, val):\n",
    "        self.data = val\n",
    "        self.next = None\n",
    "class LinkedList:\n",
    "    def __init__(self):\n",
    "        self.head = None\n",
    "    \n",
    "    def append(self, data):\n",
    "        newNode = Node(data)\n",
    "        if self.head is None:\n",
    "            self.head = newNode\n",
    "        else:\n",
    "            current = self.head\n",
    "            while current.next is not None:\n",
    "                current = current.next\n",
    "            current.next = newNode\n",
    "            return\n",
    "    \n",
    "    def show_linkedList(self):\n",
    "        current = self.head\n",
    "        while current is not None:\n",
    "            print(current.data,end=\" --> \")\n",
    "            current = current.next\n",
    "        else:\n",
    "            print(\"None\")\n",
    "    \n",
    "    def add_at_start(self, data):\n",
    "        newNode = Node(data)\n",
    "        if self.head is None:\n",
    "            self.head = newNode\n",
    "        else:\n",
    "            newNode.next = self.head\n",
    "            self.head = newNode\n",
    "    def search(self, data):\n",
    "        current = self.head\n",
    "        pos = []\n",
    "        index = 0\n",
    "        while current is not None:\n",
    "            if current.data == data:\n",
    "                pos.append(index)\n",
    "            index+=1\n",
    "            current = current.next\n",
    "        return pos\n",
    "    def remove_last(self):\n",
    "        current = self.head\n",
    "        if current is None:\n",
    "            return -1\n",
    "        elif current.next is None:\n",
    "            self.head = None\n",
    "            return current.data\n",
    "        else:\n",
    "            while current.next.next is not None:\n",
    "                current = current.next\n",
    "            popped_data = current.next.data\n",
    "            current.next = None\n",
    "            return popped_data"
   ]
  },
  {
   "cell_type": "code",
   "execution_count": 33,
   "id": "c3fb4e1a",
   "metadata": {},
   "outputs": [],
   "source": [
    "l1 = LinkedList()\n",
    "for i in range(0,10,2):\n",
    "    l1.append(i)"
   ]
  },
  {
   "cell_type": "code",
   "execution_count": 34,
   "id": "ea66d509",
   "metadata": {},
   "outputs": [
    {
     "name": "stdout",
     "output_type": "stream",
     "text": [
      "0 --> 2 --> 4 --> 6 --> 8 --> None\n"
     ]
    }
   ],
   "source": [
    "l1.show_linkedList()"
   ]
  },
  {
   "cell_type": "code",
   "execution_count": 35,
   "id": "0f107598",
   "metadata": {},
   "outputs": [],
   "source": [
    "l1.add_at_start(-2)"
   ]
  },
  {
   "cell_type": "code",
   "execution_count": 36,
   "id": "ee7e6931",
   "metadata": {},
   "outputs": [
    {
     "name": "stdout",
     "output_type": "stream",
     "text": [
      "-2 --> 0 --> 2 --> 4 --> 6 --> 8 --> None\n"
     ]
    }
   ],
   "source": [
    "l1.show_linkedList()"
   ]
  },
  {
   "cell_type": "code",
   "execution_count": 37,
   "id": "a05dd0b8",
   "metadata": {},
   "outputs": [],
   "source": [
    "l1.add_at_start(4)"
   ]
  },
  {
   "cell_type": "code",
   "execution_count": 38,
   "id": "45fd263c",
   "metadata": {},
   "outputs": [],
   "source": [
    "l1.append(4)"
   ]
  },
  {
   "cell_type": "code",
   "execution_count": 39,
   "id": "72c944cf",
   "metadata": {},
   "outputs": [
    {
     "name": "stdout",
     "output_type": "stream",
     "text": [
      "4 --> -2 --> 0 --> 2 --> 4 --> 6 --> 8 --> 4 --> None\n"
     ]
    }
   ],
   "source": [
    "l1.show_linkedList()"
   ]
  },
  {
   "cell_type": "code",
   "execution_count": 40,
   "id": "9b77e03f",
   "metadata": {},
   "outputs": [
    {
     "data": {
      "text/plain": [
       "[0, 4, 7]"
      ]
     },
     "execution_count": 40,
     "metadata": {},
     "output_type": "execute_result"
    }
   ],
   "source": [
    "l1.search(4)"
   ]
  },
  {
   "cell_type": "code",
   "execution_count": 41,
   "id": "dbf4c263",
   "metadata": {},
   "outputs": [
    {
     "data": {
      "text/plain": [
       "4"
      ]
     },
     "execution_count": 41,
     "metadata": {},
     "output_type": "execute_result"
    }
   ],
   "source": [
    "l1.remove_last()"
   ]
  },
  {
   "cell_type": "code",
   "execution_count": 42,
   "id": "effc7393",
   "metadata": {},
   "outputs": [
    {
     "data": {
      "text/plain": [
       "8"
      ]
     },
     "execution_count": 42,
     "metadata": {},
     "output_type": "execute_result"
    }
   ],
   "source": [
    "l1.remove_last()"
   ]
  },
  {
   "cell_type": "code",
   "execution_count": 43,
   "id": "5e1862cb",
   "metadata": {},
   "outputs": [
    {
     "name": "stdout",
     "output_type": "stream",
     "text": [
      "4 --> -2 --> 0 --> 2 --> 4 --> 6 --> None\n"
     ]
    }
   ],
   "source": [
    "l1.show_linkedList()"
   ]
  },
  {
   "cell_type": "markdown",
   "id": "8284f6b9",
   "metadata": {},
   "source": [
    "## `Stack`"
   ]
  },
  {
   "cell_type": "code",
   "execution_count": null,
   "id": "4ec47d7b",
   "metadata": {},
   "outputs": [],
   "source": [
    "push(value) --> used to insert a new elemnt insto the stack from TOP\n",
    "pop() --> used to remove the element from stack TOP\n",
    "getSize() --> it will give the number of items available in stack\n",
    "peek() --> Return the top item of the stack\n",
    "isEmpty() --> Returns True if stack is empty else false"
   ]
  },
  {
   "cell_type": "code",
   "execution_count": null,
   "id": "21c7c20f",
   "metadata": {},
   "outputs": [],
   "source": [
    "implementing stack using linked list"
   ]
  },
  {
   "cell_type": "code",
   "execution_count": 86,
   "id": "31b73ce4",
   "metadata": {},
   "outputs": [],
   "source": [
    "class Node:\n",
    "    def __init__(self, value):\n",
    "        self.data = value\n",
    "        self.next = None\n",
    "class Stack:\n",
    "    def __init__(self):\n",
    "        self.head = None\n",
    "        self.size = 0\n",
    "    \n",
    "    def isEmpty(self):\n",
    "        return self.size == 0\n",
    "    def getSize(self):\n",
    "        return self.size\n",
    "    def peek(self):\n",
    "        if self.isEmpty() is True:\n",
    "            return \"Empty Stack\"\n",
    "        return self.head.data\n",
    "    \n",
    "    def push(self, val):\n",
    "        newNode = Node(val)\n",
    "        newNode.next = self.head\n",
    "        self.head = newNode\n",
    "        self.size+=1\n",
    "    def pop(self):\n",
    "        if self.isEmpty() is True:\n",
    "            return \"Stack is Empty\"\n",
    "        else:\n",
    "            popped_value = self.peek()\n",
    "            self.head = self.head.next\n",
    "            self.size-=1\n",
    "        return popped_value"
   ]
  },
  {
   "cell_type": "code",
   "execution_count": 87,
   "id": "6e5cf85f",
   "metadata": {},
   "outputs": [],
   "source": [
    "s1 = Stack()"
   ]
  },
  {
   "cell_type": "code",
   "execution_count": 88,
   "id": "3000bb54",
   "metadata": {},
   "outputs": [
    {
     "data": {
      "text/plain": [
       "'Empty Stack'"
      ]
     },
     "execution_count": 88,
     "metadata": {},
     "output_type": "execute_result"
    }
   ],
   "source": [
    "s1.peek()"
   ]
  },
  {
   "cell_type": "code",
   "execution_count": 89,
   "id": "913867f1",
   "metadata": {},
   "outputs": [
    {
     "data": {
      "text/plain": [
       "True"
      ]
     },
     "execution_count": 89,
     "metadata": {},
     "output_type": "execute_result"
    }
   ],
   "source": [
    "s1.isEmpty()"
   ]
  },
  {
   "cell_type": "code",
   "execution_count": 90,
   "id": "105cfbca",
   "metadata": {},
   "outputs": [
    {
     "data": {
      "text/plain": [
       "0"
      ]
     },
     "execution_count": 90,
     "metadata": {},
     "output_type": "execute_result"
    }
   ],
   "source": [
    "s1.getSize()"
   ]
  },
  {
   "cell_type": "code",
   "execution_count": 91,
   "id": "0975f602",
   "metadata": {},
   "outputs": [],
   "source": [
    "s1.push(\"Vishnu\")"
   ]
  },
  {
   "cell_type": "code",
   "execution_count": 92,
   "id": "a428261c",
   "metadata": {},
   "outputs": [
    {
     "data": {
      "text/plain": [
       "1"
      ]
     },
     "execution_count": 92,
     "metadata": {},
     "output_type": "execute_result"
    }
   ],
   "source": [
    "s1.getSize()"
   ]
  },
  {
   "cell_type": "code",
   "execution_count": 93,
   "id": "37e09300",
   "metadata": {},
   "outputs": [
    {
     "data": {
      "text/plain": [
       "'Vishnu'"
      ]
     },
     "execution_count": 93,
     "metadata": {},
     "output_type": "execute_result"
    }
   ],
   "source": [
    "s1.peek()"
   ]
  },
  {
   "cell_type": "code",
   "execution_count": 94,
   "id": "58f1d743",
   "metadata": {},
   "outputs": [],
   "source": [
    "s1.push(\"debashish\")"
   ]
  },
  {
   "cell_type": "code",
   "execution_count": 95,
   "id": "9a453281",
   "metadata": {},
   "outputs": [
    {
     "data": {
      "text/plain": [
       "2"
      ]
     },
     "execution_count": 95,
     "metadata": {},
     "output_type": "execute_result"
    }
   ],
   "source": [
    "s1.getSize()"
   ]
  },
  {
   "cell_type": "code",
   "execution_count": 96,
   "id": "25439a7c",
   "metadata": {},
   "outputs": [
    {
     "data": {
      "text/plain": [
       "'debashish'"
      ]
     },
     "execution_count": 96,
     "metadata": {},
     "output_type": "execute_result"
    }
   ],
   "source": [
    "s1.peek()"
   ]
  },
  {
   "cell_type": "code",
   "execution_count": 97,
   "id": "cab76508",
   "metadata": {},
   "outputs": [],
   "source": [
    "s1.push(41652)"
   ]
  },
  {
   "cell_type": "code",
   "execution_count": 98,
   "id": "f1284552",
   "metadata": {},
   "outputs": [
    {
     "data": {
      "text/plain": [
       "41652"
      ]
     },
     "execution_count": 98,
     "metadata": {},
     "output_type": "execute_result"
    }
   ],
   "source": [
    "s1.peek()"
   ]
  },
  {
   "cell_type": "code",
   "execution_count": 99,
   "id": "bf85dead",
   "metadata": {},
   "outputs": [
    {
     "data": {
      "text/plain": [
       "41652"
      ]
     },
     "execution_count": 99,
     "metadata": {},
     "output_type": "execute_result"
    }
   ],
   "source": [
    "s1.pop()"
   ]
  },
  {
   "cell_type": "code",
   "execution_count": 100,
   "id": "5d869d8c",
   "metadata": {},
   "outputs": [
    {
     "data": {
      "text/plain": [
       "'debashish'"
      ]
     },
     "execution_count": 100,
     "metadata": {},
     "output_type": "execute_result"
    }
   ],
   "source": [
    "s1.peek()"
   ]
  },
  {
   "cell_type": "code",
   "execution_count": 101,
   "id": "ebfcf269",
   "metadata": {},
   "outputs": [],
   "source": [
    "s2 = Stack()"
   ]
  },
  {
   "cell_type": "code",
   "execution_count": 102,
   "id": "b791da2b",
   "metadata": {},
   "outputs": [],
   "source": [
    "for i in \"Dimple\":\n",
    "    s2.push(i)"
   ]
  },
  {
   "cell_type": "code",
   "execution_count": 103,
   "id": "5819d021",
   "metadata": {},
   "outputs": [
    {
     "data": {
      "text/plain": [
       "6"
      ]
     },
     "execution_count": 103,
     "metadata": {},
     "output_type": "execute_result"
    }
   ],
   "source": [
    "s2.getSize()"
   ]
  },
  {
   "cell_type": "code",
   "execution_count": 104,
   "id": "d0b9f314",
   "metadata": {},
   "outputs": [],
   "source": [
    "s3 = \"\"\n",
    "for i in range(s2.getSize()):\n",
    "    data = s2.pop()\n",
    "    s3+=data"
   ]
  },
  {
   "cell_type": "code",
   "execution_count": 105,
   "id": "c03c4827",
   "metadata": {},
   "outputs": [
    {
     "data": {
      "text/plain": [
       "'elpmiD'"
      ]
     },
     "execution_count": 105,
     "metadata": {},
     "output_type": "execute_result"
    }
   ],
   "source": [
    "s3"
   ]
  },
  {
   "cell_type": "code",
   "execution_count": 106,
   "id": "53806b5b",
   "metadata": {},
   "outputs": [
    {
     "data": {
      "text/plain": [
       "True"
      ]
     },
     "execution_count": 106,
     "metadata": {},
     "output_type": "execute_result"
    }
   ],
   "source": [
    "s2.isEmpty()"
   ]
  },
  {
   "cell_type": "code",
   "execution_count": 107,
   "id": "77ba7fa6",
   "metadata": {},
   "outputs": [
    {
     "data": {
      "text/plain": [
       "'Empty Stack'"
      ]
     },
     "execution_count": 107,
     "metadata": {},
     "output_type": "execute_result"
    }
   ],
   "source": [
    "s2.peek()"
   ]
  },
  {
   "cell_type": "code",
   "execution_count": 108,
   "id": "d8371141",
   "metadata": {},
   "outputs": [
    {
     "name": "stdout",
     "output_type": "stream",
     "text": [
      "u\n",
      "n\n",
      "h\n",
      "s\n",
      "i\n",
      "V\n"
     ]
    }
   ],
   "source": [
    "for i in \"Vishnu\":\n",
    "    s2.push(i)\n",
    "s3 = Stack()\n",
    "for i in range(s2.getSize()):\n",
    "    data = s2.pop()\n",
    "    print(data)\n",
    "    s3.push(data)"
   ]
  },
  {
   "cell_type": "code",
   "execution_count": 109,
   "id": "6067a6c6",
   "metadata": {},
   "outputs": [
    {
     "data": {
      "text/plain": [
       "'V'"
      ]
     },
     "execution_count": 109,
     "metadata": {},
     "output_type": "execute_result"
    }
   ],
   "source": [
    "s3.peek()"
   ]
  },
  {
   "cell_type": "code",
   "execution_count": null,
   "id": "4df7665c",
   "metadata": {},
   "outputs": [],
   "source": [
    "Q1) add element in between of the linked list?\n",
    "Q2) sort the unsorted llist \n",
    "    a) using stackQ1) add element in between of the linked list?\n",
    "Q2) sort the unsorted llist \n",
    "    a) using stack\n",
    "    b) using linked list\n",
    "        --> [1,-1,0,-99]"
   ]
  }
 ],
 "metadata": {
  "kernelspec": {
   "display_name": "Python 3 (ipykernel)",
   "language": "python",
   "name": "python3"
  },
  "language_info": {
   "codemirror_mode": {
    "name": "ipython",
    "version": 3
   },
   "file_extension": ".py",
   "mimetype": "text/x-python",
   "name": "python",
   "nbconvert_exporter": "python",
   "pygments_lexer": "ipython3",
   "version": "3.9.7"
  }
 },
 "nbformat": 4,
 "nbformat_minor": 5
}
