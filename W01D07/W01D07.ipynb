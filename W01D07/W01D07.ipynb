{
 "cells": [
  {
   "cell_type": "code",
   "execution_count": null,
   "id": "a382cf31",
   "metadata": {},
   "outputs": [],
   "source": [
    "What is Time Complexity?\n",
    "\n",
    "the time complexity is the amount of time taken by an algorithm to run as a function."
   ]
  },
  {
   "cell_type": "code",
   "execution_count": null,
   "id": "0af9b511",
   "metadata": {},
   "outputs": [],
   "source": [
    "# code 1\n",
    "for loop:     \n",
    "    for loop: "
   ]
  },
  {
   "cell_type": "code",
   "execution_count": null,
   "id": "5a1421c3",
   "metadata": {},
   "outputs": [],
   "source": [
    "#code 2\n",
    "for loop:"
   ]
  },
  {
   "cell_type": "code",
   "execution_count": 1,
   "id": "11abe30e",
   "metadata": {},
   "outputs": [
    {
     "name": "stdout",
     "output_type": "stream",
     "text": [
      "Hi Ramya!! How was your exam?\n"
     ]
    }
   ],
   "source": [
    "print(\"Hi Ramya!! How was your exam?\")  N1=1"
   ]
  },
  {
   "cell_type": "code",
   "execution_count": 2,
   "id": "dd9f5a16",
   "metadata": {},
   "outputs": [
    {
     "name": "stdout",
     "output_type": "stream",
     "text": [
      "Hello Pranjul what about you!!\n",
      "Hello Pranjul what about you!!\n",
      "Hello Pranjul what about you!!\n",
      "Hello Pranjul what about you!!\n",
      "Hello Pranjul what about you!!\n",
      "Hello Pranjul what about you!!\n",
      "Hello Pranjul what about you!!\n",
      "Hello Pranjul what about you!!\n",
      "Hello Pranjul what about you!!\n",
      "Hello Pranjul what about you!!\n"
     ]
    }
   ],
   "source": [
    "for i in range(10):\n",
    "    print(\"Hello Pranjul what about you!!\") N2=10"
   ]
  },
  {
   "cell_type": "code",
   "execution_count": null,
   "id": "aad9cdc7",
   "metadata": {},
   "outputs": [],
   "source": [
    "O[n] where O is the order of growth and our n is the length of the input:\n",
    "    Big O Notation\n",
    "    \n",
    "    Big O Notation expresses the run time of an algorithm in terms how quickly it grows\n",
    "    relative to the input 'n'"
   ]
  },
  {
   "cell_type": "code",
   "execution_count": null,
   "id": "5da5facb",
   "metadata": {},
   "outputs": [],
   "source": [
    "Constant time - O(1)\n",
    "Linear time - O(n)\n",
    "Logarithmic time - O(log n)\n",
    "Quadratic time - O(n^2)\n",
    "Cubic time - O(n^3)"
   ]
  },
  {
   "cell_type": "code",
   "execution_count": null,
   "id": "81c8b339",
   "metadata": {},
   "outputs": [],
   "source": [
    "Constant time O(1):\n",
    "    an algorithm is with order O(1) \" when it is not dependent on the input size n.\""
   ]
  },
  {
   "cell_type": "code",
   "execution_count": 3,
   "id": "73937fdd",
   "metadata": {},
   "outputs": [
    {
     "name": "stdout",
     "output_type": "stream",
     "text": [
      "Exec time: 0.0\n"
     ]
    }
   ],
   "source": [
    "import time\n",
    "\n",
    "l = [1,2,3,5,6]\n",
    "\n",
    "start = time.time()\n",
    "l[1]\n",
    "end = time.time()\n",
    "print(f\"Exec time: {end - start}\")"
   ]
  },
  {
   "cell_type": "code",
   "execution_count": 5,
   "id": "031934e7",
   "metadata": {},
   "outputs": [
    {
     "name": "stdout",
     "output_type": "stream",
     "text": [
      "Exec time: 0.0\n"
     ]
    }
   ],
   "source": [
    "l = [1,2,3,5,6,1,2,3,5,6,54,87,89,54]\n",
    "start = time.time()\n",
    "l[1]\n",
    "print(f\"Exec time: {time.time() - start}\")"
   ]
  },
  {
   "cell_type": "code",
   "execution_count": 6,
   "id": "695b0c78",
   "metadata": {},
   "outputs": [],
   "source": [
    "l = {\"Soham\":23,\"Jovan\":24,\"Pranjul\":25,\"Akshit\":26,\"Vishnu\":27}\n",
    "d = {\"Soham\":23,\"Jovan\":24,\"Pranjul\":25}"
   ]
  },
  {
   "cell_type": "code",
   "execution_count": 7,
   "id": "3cfae0e2",
   "metadata": {},
   "outputs": [
    {
     "name": "stdout",
     "output_type": "stream",
     "text": [
      "Exec time: 0.0\n"
     ]
    }
   ],
   "source": [
    "start = time.time()\n",
    "l[\"Soham\"]\n",
    "end = time.time()\n",
    "print(f\"Exec time: {end - start}\")"
   ]
  },
  {
   "cell_type": "code",
   "execution_count": 8,
   "id": "fa7688f3",
   "metadata": {},
   "outputs": [
    {
     "name": "stdout",
     "output_type": "stream",
     "text": [
      "Exec time: 0.0\n"
     ]
    }
   ],
   "source": [
    "start = time.time()\n",
    "d[\"Soham\"]\n",
    "end = time.time()\n",
    "print(f\"Exec time: {end - start}\")"
   ]
  },
  {
   "cell_type": "markdown",
   "id": "b15e940c",
   "metadata": {},
   "source": [
    "Linear Time - O(n):\n",
    "    An algorithm is said to have linear time complexity O(n)when running time increases linearly with\n",
    "    the length of the input. When the function involves checking all the values in input data, such functions has time complexity with order O(n)"
   ]
  },
  {
   "cell_type": "code",
   "execution_count": 16,
   "id": "8ea1fc12",
   "metadata": {},
   "outputs": [
    {
     "name": "stdout",
     "output_type": "stream",
     "text": [
      "Exec time: 0.0\n",
      "Exec time: 0.0\n"
     ]
    }
   ],
   "source": [
    "def summation(list1):\n",
    "    sum1 = 0\n",
    "    for i in list1:\n",
    "        sum1+=i\n",
    "    return sum1\n",
    "l = [101,201,306,5036,6055,306,5036,6055,101,201,306,5036,6055,306,5036,6055,5465,101,201,306,5036,6055,306,5036,6055,101,201,306,5036,6055,306,5036,6055,5465,101,201,306,5036,6055,306,5036,6055,101,201,306,5036,6055,306,5036,6055,5465,101,201,306,5036,6055,306,5036,6055,101,201,306,5036,6055,306,5036,6055,5465,101,201,306,5036,6055,306,5036,6055,101,201,306,5036,6055,306,5036,6055,5465,101,201,306,5036,6055,306,5036,6055,101,201,306,5036,6055,306,5036,6055,5465,101,201,306,5036,6055,306,5036,6055,101,201,306,5036,6055,306,5036,6055,5465,101,201,306,5036,6055,306,5036,6055,101,201,306,5036,6055,306,5036,6055,5465,101,201,306,5036,6055,306,5036,6055,101,201,306,5036,6055,306,5036,6055,5465,101,201,306,5036,6055,306,5036,6055,101,201,306,5036,6055,306,5036,6055,5465,101,201,306,5036,6055,306,5036,6055,101,201,306,5036,6055,306,5036,6055,5465,101,201,306,5036,6055,306,5036,6055,101,201,306,5036,6055,306,5036,6055,5465,101,201,306,5036,6055,306,5036,6055,101,201,306,5036,6055,306,5036,6055,5465,101,201,306,5036,6055,306,5036,6055,101,201,306,5036,6055,306,5036,6055,5465,101,201,306,5036,6055,306,5036,6055,101,201,306,5036,6055,306,5036,6055,5465,101,201,306,5036,6055,306,5036,6055,101,201,306,5036,6055,306,5036,6055,5465,101,201,306,5036,6055,306,5036,6055,101,201,306,5036,6055,306,5036,6055,5465,101,201,306,5036,6055,306,5036,6055,101,201,306,5036,6055,306,5036,6055,5465,101,201,306,5036,6055,306,5036,6055,101,201,306,5036,6055,306,5036,6055,5465,101,201,306,5036,6055,306,5036,6055,101,201,306,5036,6055,306,5036,6055,5465,101,201,306,5036,6055,306,5036,6055,101,201,306,5036,6055,306,5036,6055,5465,101,201,306,5036,6055,306,5036,6055,101,201,306,5036,6055,306,5036,6055,5465,101,201,306,5036,6055,306,5036,6055,101,201,306,5036,6055,306,5036,6055,5465,101,201,306,5036,6055,306,5036,6055,101,201,306,5036,6055,306,5036,6055,5465,101,201,306,5036,6055,306,5036,6055,101,201,306,5036,6055,306,5036,6055,5465,101,201,306,5036,6055,306,5036,6055,101,201,306,5036,6055,306,5036,6055,5465,101,201,306,5036,6055,306,5036,6055,101,201,306,5036,6055,306,5036,6055,5465,101,201,306,5036,6055,306,5036,6055,101,201,306,5036,6055,306,5036,6055,5465,101,201,306,5036,6055,306,5036,6055,101,201,306,5036,6055,306,5036,6055,5465,101,201,306,5036,6055,306,5036,6055,101,201,306,5036,6055,306,5036,6055,5465,101,201,306,5036,6055,306,5036,6055,101,201,306,5036,6055,306,5036,6055,5465,101,201,306,5036,6055,306,5036,6055,101,201,306,5036,6055,306,5036,6055,5465,101,201,306,5036,6055,306,5036,6055,101,201,306,5036,6055,306,5036,6055,5465,101,201,306,5036,6055,306,5036,6055,101,201,306,5036,6055,306,5036,6055,5465,101,201,306,5036,6055,306,5036,6055,101,201,306,5036,6055,306,5036,6055,5465,101,201,306,5036,6055,306,5036,6055,101,201,306,5036,6055,306,5036,6055,5465]\n",
    "start = time.time()\n",
    "summation(l)\n",
    "end = time.time()\n",
    "print(f\"Exec time: {end - start}\")\n",
    "g = [1,2,3,5,6]\n",
    "start = time.time()\n",
    "summation(g)\n",
    "end = time.time()\n",
    "print(f\"Exec time: {end - start}\")"
   ]
  },
  {
   "cell_type": "markdown",
   "id": "22ad95ec",
   "metadata": {},
   "source": [
    "Logarithmic time O(log n)\n",
    "\n",
    "An algotrithm is said to have a logarithmic time complexity when it reduces the size of the input data\n",
    "in each step"
   ]
  },
  {
   "cell_type": "code",
   "execution_count": null,
   "id": "12531a56",
   "metadata": {},
   "outputs": [],
   "source": [
    "linear search has time complextiy of O(n)\n",
    "2 5 8 9 10 48 56 98 102\n",
    "2\n",
    "5\n",
    "8\n",
    "9\n",
    "10\n",
    "48\n",
    "56\n",
    "Binary search has time complexity of O(log n)\n",
    "2 5 8 9 10 48 56 98 102\n",
    "48 56 98 102\n",
    "48 56"
   ]
  },
  {
   "cell_type": "code",
   "execution_count": null,
   "id": "472bcb23",
   "metadata": {},
   "outputs": [],
   "source": [
    "Quadratic time - O(n^2)\n",
    "for loop:     O(n)\n",
    "    for loop: O(n)\n",
    "        O(n)*O(n) = O(n^2)"
   ]
  },
  {
   "cell_type": "code",
   "execution_count": null,
   "id": "08621863",
   "metadata": {},
   "outputs": [],
   "source": [
    "def summation(list1):\n",
    "    sum1 = 0            # cost = C1 no of time =1   \n",
    "    for i in list1:     # cost = C2 no of time =n+1\n",
    "        sum1+=i         # cost = C3 no of time =n\n",
    "    return sum1         # cost = C1 no of time =1\n",
    "\n",
    "Tsum = C1*1 + C2*(n+1) + C3*n + C1*1\n",
    "Replacing all the costs with C to estimate the Order notation\n",
    "Tsum = C + nC + C + nC + C = 2nC + 3 --> O(n)"
   ]
  },
  {
   "cell_type": "code",
   "execution_count": null,
   "id": "3c6f4e1c",
   "metadata": {},
   "outputs": [],
   "source": [
    "n^2 + 2n + n + 5 --> O(n^2)\n",
    "n^3 + n^2 + 6n + 7 --> O(n^3)\n",
    "log n + n^4 + n^3 --> O(n^4)"
   ]
  },
  {
   "cell_type": "code",
   "execution_count": null,
   "id": "dcd20dc0",
   "metadata": {},
   "outputs": [],
   "source": [
    "Big Oh notation (O) is used to describe asymtotic upper bound\n",
    "Big Omega (Ω) is used to describe asymtotic lower bound\n",
    "Big Theta (Θ)"
   ]
  }
 ],
 "metadata": {
  "kernelspec": {
   "display_name": "Python 3 (ipykernel)",
   "language": "python",
   "name": "python3"
  },
  "language_info": {
   "codemirror_mode": {
    "name": "ipython",
    "version": 3
   },
   "file_extension": ".py",
   "mimetype": "text/x-python",
   "name": "python",
   "nbconvert_exporter": "python",
   "pygments_lexer": "ipython3",
   "version": "3.9.7"
  }
 },
 "nbformat": 4,
 "nbformat_minor": 5
}
