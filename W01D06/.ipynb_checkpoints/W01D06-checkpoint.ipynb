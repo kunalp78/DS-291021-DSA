{
 "cells": [
  {
   "cell_type": "code",
   "execution_count": null,
   "id": "41cb38e9",
   "metadata": {},
   "outputs": [],
   "source": [
    "# Overflow"
   ]
  },
  {
   "cell_type": "code",
   "execution_count": 15,
   "id": "671e781a",
   "metadata": {},
   "outputs": [],
   "source": [
    "class Node:\n",
    "    def __init__(self, val):\n",
    "        self.data = val\n",
    "        self.next = None\n",
    "class Queue:\n",
    "    def __init__(self, maxsize):\n",
    "        self.front = self.rear = None\n",
    "        self.size = 0\n",
    "        self.maxsize = maxsize\n",
    "        \n",
    "    def isEmpty(self):\n",
    "        return self.front == None\n",
    "    \n",
    "    def enQueue(self, data):\n",
    "        if self.size <= self.maxsize:\n",
    "            newNode = Node(data)\n",
    "\n",
    "            if self.rear == None:\n",
    "                self.front = newNode\n",
    "                self.rear = newNode\n",
    "                self.size+=1\n",
    "                return\n",
    "            \n",
    "            else:\n",
    "                self.rear.next = newNode\n",
    "                self.rear = newNode\n",
    "                self.size+=1\n",
    "        else:\n",
    "            return \"OverFlow\"\n",
    "    def deQueue(self):\n",
    "        \n",
    "        if self.isEmpty():\n",
    "            return \"Underflow\"\n",
    "        current = self.front.data\n",
    "        self.front = self.front.next\n",
    "        self.size-=1\n",
    "        if self.front is None:\n",
    "            self.rear = None\n",
    "        return current"
   ]
  },
  {
   "cell_type": "code",
   "execution_count": 16,
   "id": "a62cb76c",
   "metadata": {},
   "outputs": [],
   "source": [
    "S1 = Queue(5)"
   ]
  },
  {
   "cell_type": "code",
   "execution_count": 17,
   "id": "1994fc2b",
   "metadata": {},
   "outputs": [
    {
     "name": "stdout",
     "output_type": "stream",
     "text": [
      "P None\n",
      "r None\n",
      "a None\n",
      "n None\n",
      "j None\n",
      "u None\n",
      "l OverFlow\n"
     ]
    }
   ],
   "source": [
    "for i in \"Pranjul\":\n",
    "    print(i,S1.enQueue(i))"
   ]
  },
  {
   "cell_type": "code",
   "execution_count": 14,
   "id": "7d9a4679",
   "metadata": {},
   "outputs": [
    {
     "data": {
      "text/plain": [
       "'Underflow'"
      ]
     },
     "execution_count": 14,
     "metadata": {},
     "output_type": "execute_result"
    }
   ],
   "source": [
    "S1.deQueue()"
   ]
  },
  {
   "cell_type": "code",
   "execution_count": 18,
   "id": "de98fbc3",
   "metadata": {},
   "outputs": [
    {
     "data": {
      "text/plain": [
       "'P'"
      ]
     },
     "execution_count": 18,
     "metadata": {},
     "output_type": "execute_result"
    }
   ],
   "source": [
    "S1.deQueue()"
   ]
  },
  {
   "cell_type": "code",
   "execution_count": 19,
   "id": "ccab6775",
   "metadata": {},
   "outputs": [
    {
     "data": {
      "text/plain": [
       "5"
      ]
     },
     "execution_count": 19,
     "metadata": {},
     "output_type": "execute_result"
    }
   ],
   "source": [
    "S1.size"
   ]
  },
  {
   "cell_type": "code",
   "execution_count": 20,
   "id": "2f055a8b",
   "metadata": {},
   "outputs": [
    {
     "data": {
      "text/plain": [
       "'r'"
      ]
     },
     "execution_count": 20,
     "metadata": {},
     "output_type": "execute_result"
    }
   ],
   "source": [
    "S1.deQueue()"
   ]
  },
  {
   "cell_type": "code",
   "execution_count": 21,
   "id": "747eb5fc",
   "metadata": {},
   "outputs": [
    {
     "data": {
      "text/plain": [
       "4"
      ]
     },
     "execution_count": 21,
     "metadata": {},
     "output_type": "execute_result"
    }
   ],
   "source": [
    "S1.size"
   ]
  },
  {
   "cell_type": "code",
   "execution_count": 22,
   "id": "c02d8719",
   "metadata": {},
   "outputs": [
    {
     "data": {
      "text/plain": [
       "'a'"
      ]
     },
     "execution_count": 22,
     "metadata": {},
     "output_type": "execute_result"
    }
   ],
   "source": [
    "S1.deQueue()"
   ]
  },
  {
   "cell_type": "code",
   "execution_count": 23,
   "id": "46e4dc75",
   "metadata": {},
   "outputs": [
    {
     "data": {
      "text/plain": [
       "3"
      ]
     },
     "execution_count": 23,
     "metadata": {},
     "output_type": "execute_result"
    }
   ],
   "source": [
    "S1.size"
   ]
  },
  {
   "cell_type": "code",
   "execution_count": 24,
   "id": "5b6af098",
   "metadata": {},
   "outputs": [
    {
     "data": {
      "text/plain": [
       "'n'"
      ]
     },
     "execution_count": 24,
     "metadata": {},
     "output_type": "execute_result"
    }
   ],
   "source": [
    "S1.deQueue()"
   ]
  },
  {
   "cell_type": "code",
   "execution_count": 25,
   "id": "58f853f1",
   "metadata": {},
   "outputs": [
    {
     "data": {
      "text/plain": [
       "2"
      ]
     },
     "execution_count": 25,
     "metadata": {},
     "output_type": "execute_result"
    }
   ],
   "source": [
    "S1.size"
   ]
  },
  {
   "cell_type": "code",
   "execution_count": 26,
   "id": "4891ceca",
   "metadata": {},
   "outputs": [
    {
     "data": {
      "text/plain": [
       "'j'"
      ]
     },
     "execution_count": 26,
     "metadata": {},
     "output_type": "execute_result"
    }
   ],
   "source": [
    "S1.deQueue()"
   ]
  },
  {
   "cell_type": "code",
   "execution_count": 27,
   "id": "aab2240b",
   "metadata": {},
   "outputs": [
    {
     "data": {
      "text/plain": [
       "1"
      ]
     },
     "execution_count": 27,
     "metadata": {},
     "output_type": "execute_result"
    }
   ],
   "source": [
    "S1.size"
   ]
  },
  {
   "cell_type": "code",
   "execution_count": 28,
   "id": "35da08fd",
   "metadata": {},
   "outputs": [
    {
     "data": {
      "text/plain": [
       "'u'"
      ]
     },
     "execution_count": 28,
     "metadata": {},
     "output_type": "execute_result"
    }
   ],
   "source": [
    "S1.deQueue()"
   ]
  },
  {
   "cell_type": "code",
   "execution_count": 29,
   "id": "ce36e94b",
   "metadata": {},
   "outputs": [
    {
     "data": {
      "text/plain": [
       "0"
      ]
     },
     "execution_count": 29,
     "metadata": {},
     "output_type": "execute_result"
    }
   ],
   "source": [
    "S1.size"
   ]
  },
  {
   "cell_type": "code",
   "execution_count": 30,
   "id": "9ac0c973",
   "metadata": {},
   "outputs": [
    {
     "data": {
      "text/plain": [
       "'Underflow'"
      ]
     },
     "execution_count": 30,
     "metadata": {},
     "output_type": "execute_result"
    }
   ],
   "source": [
    "S1.deQueue()"
   ]
  },
  {
   "cell_type": "code",
   "execution_count": null,
   "id": "c466fdc5",
   "metadata": {},
   "outputs": [],
   "source": [
    "Q1) Implement Queue using stack"
   ]
  },
  {
   "cell_type": "code",
   "execution_count": 33,
   "id": "cb4502c2",
   "metadata": {},
   "outputs": [],
   "source": [
    "class Node:\n",
    "    def __init__(self, val):\n",
    "        self.data = val\n",
    "        self.next = None\n",
    "class Stack:\n",
    "    def __init__(self):\n",
    "        self.head = None\n",
    "        self.size = 0\n",
    "    \n",
    "    def isEmpty(self):\n",
    "        return self.size == 0\n",
    "    def peek(self):\n",
    "        if self.isEmpty() is True:\n",
    "            return \"Empty Stack\"\n",
    "        return self.head.data\n",
    "    def getSize(self):\n",
    "        return self.size\n",
    "    \n",
    "    def push(self, val):\n",
    "        newNode = Node(val)\n",
    "        newNode.next = self.head\n",
    "        self.head = newNode\n",
    "        self.size+=1\n",
    "    def pop(self):\n",
    "        if self.isEmpty() is True:\n",
    "            return \"Stack is Empty\"\n",
    "        else:\n",
    "            popped_value = self.peek()\n",
    "            self.head = self.head.next\n",
    "            self.size-=1\n",
    "        return popped_value"
   ]
  },
  {
   "cell_type": "code",
   "execution_count": 32,
   "id": "e4c2c4ae",
   "metadata": {},
   "outputs": [
    {
     "name": "stdout",
     "output_type": "stream",
     "text": [
      "9\n"
     ]
    }
   ],
   "source": [
    "S1=[1,5,3,9]\n",
    "S2=[]\n",
    "print(S1.pop())\n",
    "   "
   ]
  },
  {
   "cell_type": "code",
   "execution_count": null,
   "id": "2d1886cd",
   "metadata": {},
   "outputs": [],
   "source": [
    "10 mins 20:41"
   ]
  },
  {
   "cell_type": "code",
   "execution_count": 34,
   "id": "21ea600c",
   "metadata": {},
   "outputs": [],
   "source": [
    "S1 = Stack()\n",
    "S2 = Stack()"
   ]
  },
  {
   "cell_type": "code",
   "execution_count": 36,
   "id": "4ae96ed6",
   "metadata": {},
   "outputs": [],
   "source": [
    "def enEqueue(val):\n",
    "    while S1.getSize() != 0:\n",
    "        temp = S1.pop()\n",
    "        S2.push(temp)\n",
    "    S1.push(val)\n",
    "    while S2.getSize() != 0:\n",
    "        temp = S2.pop()\n",
    "        S1.push(temp)\n",
    "def deQueue():\n",
    "    if S1.isEmpty():\n",
    "        return \"UnderFlow\"\n",
    "    temp = S1.pop()\n",
    "    return temp"
   ]
  },
  {
   "cell_type": "code",
   "execution_count": 37,
   "id": "f015b9ef",
   "metadata": {},
   "outputs": [],
   "source": [
    "enEqueue(\"A\")"
   ]
  },
  {
   "cell_type": "code",
   "execution_count": 38,
   "id": "956f6fe2",
   "metadata": {},
   "outputs": [],
   "source": [
    "enEqueue(\"B\")"
   ]
  },
  {
   "cell_type": "code",
   "execution_count": 39,
   "id": "8cc585c8",
   "metadata": {},
   "outputs": [
    {
     "data": {
      "text/plain": [
       "'A'"
      ]
     },
     "execution_count": 39,
     "metadata": {},
     "output_type": "execute_result"
    }
   ],
   "source": [
    "S1.peek()"
   ]
  },
  {
   "cell_type": "code",
   "execution_count": 40,
   "id": "8f54465f",
   "metadata": {},
   "outputs": [],
   "source": [
    "enEqueue(\"C\")"
   ]
  },
  {
   "cell_type": "code",
   "execution_count": 41,
   "id": "4d87aa64",
   "metadata": {},
   "outputs": [
    {
     "data": {
      "text/plain": [
       "'A'"
      ]
     },
     "execution_count": 41,
     "metadata": {},
     "output_type": "execute_result"
    }
   ],
   "source": [
    "deQueue()"
   ]
  },
  {
   "cell_type": "code",
   "execution_count": 42,
   "id": "aba7a7a1",
   "metadata": {},
   "outputs": [
    {
     "data": {
      "text/plain": [
       "'B'"
      ]
     },
     "execution_count": 42,
     "metadata": {},
     "output_type": "execute_result"
    }
   ],
   "source": [
    "deQueue()"
   ]
  },
  {
   "cell_type": "code",
   "execution_count": 43,
   "id": "bc1df097",
   "metadata": {},
   "outputs": [
    {
     "data": {
      "text/plain": [
       "'C'"
      ]
     },
     "execution_count": 43,
     "metadata": {},
     "output_type": "execute_result"
    }
   ],
   "source": [
    "deQueue()"
   ]
  },
  {
   "cell_type": "code",
   "execution_count": 44,
   "id": "5108b9a2",
   "metadata": {},
   "outputs": [
    {
     "data": {
      "text/plain": [
       "'UnderFlow'"
      ]
     },
     "execution_count": 44,
     "metadata": {},
     "output_type": "execute_result"
    }
   ],
   "source": [
    "deQueue()"
   ]
  },
  {
   "cell_type": "code",
   "execution_count": null,
   "id": "77fc7cbd",
   "metadata": {},
   "outputs": [],
   "source": [
    "5 mins 21:06"
   ]
  }
 ],
 "metadata": {
  "kernelspec": {
   "display_name": "Python 3 (ipykernel)",
   "language": "python",
   "name": "python3"
  },
  "language_info": {
   "codemirror_mode": {
    "name": "ipython",
    "version": 3
   },
   "file_extension": ".py",
   "mimetype": "text/x-python",
   "name": "python",
   "nbconvert_exporter": "python",
   "pygments_lexer": "ipython3",
   "version": "3.9.7"
  }
 },
 "nbformat": 4,
 "nbformat_minor": 5
}
