{
 "cells": [
  {
   "cell_type": "markdown",
   "id": "40d8bc04",
   "metadata": {},
   "source": [
    "## `Linked List`"
   ]
  },
  {
   "cell_type": "code",
   "execution_count": null,
   "id": "f4267897",
   "metadata": {},
   "outputs": [],
   "source": [
    "1- Its chained data structure --> Brihaspati\n",
    "2- non contigues\n",
    "3- linear data structure --> Soham\n",
    "4- it stores data as well as refernece to another data"
   ]
  },
  {
   "cell_type": "code",
   "execution_count": null,
   "id": "edc3c896",
   "metadata": {},
   "outputs": [],
   "source": [
    "[1,3,4]"
   ]
  },
  {
   "cell_type": "code",
   "execution_count": 75,
   "id": "89a817b7",
   "metadata": {},
   "outputs": [],
   "source": [
    "class Node:\n",
    "    def __init__(self, val):\n",
    "        self.data = val\n",
    "        self.next = None\n",
    "    def __repr__(self):\n",
    "        return \"address next node\"\n",
    "        \n",
    "class Linkedlist:\n",
    "    def __init__(self):\n",
    "        self.head = None\n",
    "    def __repr__(self):\n",
    "        return \"address of head\"\n",
    "    \n",
    "    def append(self, data):\n",
    "        newNode = Node(data) # calling a Node object\n",
    "        if self.head is not None:\n",
    "            current = self.head\n",
    "            while current.next is not None:\n",
    "                current = current.next\n",
    "            current.next = newNode\n",
    "        else:\n",
    "            self.head = newNode\n",
    "        return"
   ]
  },
  {
   "cell_type": "code",
   "execution_count": 76,
   "id": "5a73fdc5",
   "metadata": {},
   "outputs": [],
   "source": [
    "list1 = Linkedlist()"
   ]
  },
  {
   "cell_type": "code",
   "execution_count": 77,
   "id": "949f6219",
   "metadata": {},
   "outputs": [
    {
     "name": "stdout",
     "output_type": "stream",
     "text": [
      "None\n"
     ]
    }
   ],
   "source": [
    "print(list1.head)"
   ]
  },
  {
   "cell_type": "code",
   "execution_count": 78,
   "id": "627b9081",
   "metadata": {},
   "outputs": [],
   "source": [
    "list1.append(\"Swarnali\")"
   ]
  },
  {
   "cell_type": "code",
   "execution_count": 79,
   "id": "bec173a5",
   "metadata": {},
   "outputs": [
    {
     "data": {
      "text/plain": [
       "'Swarnali'"
      ]
     },
     "execution_count": 79,
     "metadata": {},
     "output_type": "execute_result"
    }
   ],
   "source": [
    "list1.head.data"
   ]
  },
  {
   "cell_type": "code",
   "execution_count": 80,
   "id": "e9b25277",
   "metadata": {},
   "outputs": [
    {
     "name": "stdout",
     "output_type": "stream",
     "text": [
      "None\n"
     ]
    }
   ],
   "source": [
    "print(list1.head.next)"
   ]
  },
  {
   "cell_type": "code",
   "execution_count": 81,
   "id": "367a2d2f",
   "metadata": {},
   "outputs": [
    {
     "name": "stdout",
     "output_type": "stream",
     "text": [
      "address of head\n"
     ]
    }
   ],
   "source": [
    "print(list1)"
   ]
  },
  {
   "cell_type": "code",
   "execution_count": 82,
   "id": "4701b55f",
   "metadata": {},
   "outputs": [
    {
     "data": {
      "text/plain": [
       "{'head': address next node}"
      ]
     },
     "execution_count": 82,
     "metadata": {},
     "output_type": "execute_result"
    }
   ],
   "source": [
    "list1.__dict__"
   ]
  },
  {
   "cell_type": "code",
   "execution_count": 83,
   "id": "3c652957",
   "metadata": {},
   "outputs": [],
   "source": [
    "list1.append(\"Give Party\")"
   ]
  },
  {
   "cell_type": "code",
   "execution_count": 84,
   "id": "c275a3b4",
   "metadata": {},
   "outputs": [
    {
     "name": "stdout",
     "output_type": "stream",
     "text": [
      "Swarnali\n"
     ]
    }
   ],
   "source": [
    "print(list1.head.data)"
   ]
  },
  {
   "cell_type": "code",
   "execution_count": 85,
   "id": "2e0b2224",
   "metadata": {},
   "outputs": [
    {
     "name": "stdout",
     "output_type": "stream",
     "text": [
      "Give Party\n"
     ]
    }
   ],
   "source": [
    "print(list1.head.next.data)"
   ]
  },
  {
   "cell_type": "code",
   "execution_count": 88,
   "id": "5894a1c2",
   "metadata": {},
   "outputs": [
    {
     "name": "stdout",
     "output_type": "stream",
     "text": [
      "address of head\n",
      "{'head': address next node}\n",
      "Node one {'data': 'Swarnali', 'next': address next node}\n",
      "Node two {'data': 'Give Party', 'next': None}\n"
     ]
    }
   ],
   "source": [
    "print(list1)\n",
    "print(list1.__dict__)\n",
    "print(\"Node one\",list1.head.__dict__)\n",
    "print(\"Node two\",list1.head.next.__dict__)"
   ]
  },
  {
   "cell_type": "code",
   "execution_count": 87,
   "id": "f786e5eb",
   "metadata": {},
   "outputs": [
    {
     "name": "stdout",
     "output_type": "stream",
     "text": [
      "address next node\n"
     ]
    }
   ],
   "source": [
    "print(list1.head.next)"
   ]
  },
  {
   "cell_type": "code",
   "execution_count": null,
   "id": "f15b7e37",
   "metadata": {},
   "outputs": [],
   "source": []
  }
 ],
 "metadata": {
  "kernelspec": {
   "display_name": "Python 3 (ipykernel)",
   "language": "python",
   "name": "python3"
  },
  "language_info": {
   "codemirror_mode": {
    "name": "ipython",
    "version": 3
   },
   "file_extension": ".py",
   "mimetype": "text/x-python",
   "name": "python",
   "nbconvert_exporter": "python",
   "pygments_lexer": "ipython3",
   "version": "3.10.1"
  }
 },
 "nbformat": 4,
 "nbformat_minor": 5
}
