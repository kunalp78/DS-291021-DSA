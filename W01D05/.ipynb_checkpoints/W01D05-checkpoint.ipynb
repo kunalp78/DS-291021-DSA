{
 "cells": [
  {
   "cell_type": "markdown",
   "id": "94267ebd",
   "metadata": {},
   "source": [
    "### `add element in between of the linked list?`"
   ]
  },
  {
   "cell_type": "code",
   "execution_count": 31,
   "id": "a778f538",
   "metadata": {},
   "outputs": [],
   "source": [
    "class Node:\n",
    "    def __init__(self, val):\n",
    "        self.data = val\n",
    "        self.next = None\n",
    "class LinkedList:\n",
    "    def __init__(self):\n",
    "        self.head = None\n",
    "\n",
    "    def append(self, data):\n",
    "        newNode = Node(data)\n",
    "        if self.head is None:\n",
    "            self.head = newNode\n",
    "        else:\n",
    "            current = self.head\n",
    "            while current.next is not None:\n",
    "                current = current.next\n",
    "            current.next = newNode\n",
    "    \n",
    "    def show_list(self):\n",
    "        current = self.head\n",
    "        while current is not None:\n",
    "            print(current.data,end=\"--> \")\n",
    "            current = current.next\n",
    "        else:\n",
    "            print(\"None\")\n",
    "    def add_in_position(self, data, pos):\n",
    "        current = self.head\n",
    "        newNode = Node(data)\n",
    "        index = 0\n",
    "        if self.head is None:\n",
    "            self.head = newNode\n",
    "        else:\n",
    "            while index < pos-1:\n",
    "                current = current.next\n",
    "                index+=1\n",
    "                print(index)\n",
    "            newNode.next = current.next\n",
    "            current.next = newNode          "
   ]
  },
  {
   "cell_type": "code",
   "execution_count": 32,
   "id": "3053adb3",
   "metadata": {},
   "outputs": [],
   "source": [
    "l1 = LinkedList()\n",
    "for i in range(1,10,2):\n",
    "    l1.append(i)"
   ]
  },
  {
   "cell_type": "code",
   "execution_count": 33,
   "id": "1b23fbcf",
   "metadata": {},
   "outputs": [
    {
     "name": "stdout",
     "output_type": "stream",
     "text": [
      "1--> 3--> 5--> 7--> 9--> None\n"
     ]
    }
   ],
   "source": [
    "l1.show_list()"
   ]
  },
  {
   "cell_type": "code",
   "execution_count": 34,
   "id": "c1b9a8ef",
   "metadata": {},
   "outputs": [
    {
     "name": "stdout",
     "output_type": "stream",
     "text": [
      "1\n"
     ]
    }
   ],
   "source": [
    "l1.add_in_position(\"Jagannath\", 2)"
   ]
  },
  {
   "cell_type": "code",
   "execution_count": 35,
   "id": "d1e1ce7b",
   "metadata": {},
   "outputs": [
    {
     "name": "stdout",
     "output_type": "stream",
     "text": [
      "1--> 3--> Jagannath--> 5--> 7--> 9--> None\n"
     ]
    }
   ],
   "source": [
    "l1.show_list()"
   ]
  },
  {
   "cell_type": "code",
   "execution_count": 36,
   "id": "f529d589",
   "metadata": {},
   "outputs": [
    {
     "name": "stdout",
     "output_type": "stream",
     "text": [
      "1\n",
      "2\n",
      "3\n",
      "4\n"
     ]
    }
   ],
   "source": [
    "l1.add_in_position(\"Soham\", 5)"
   ]
  },
  {
   "cell_type": "code",
   "execution_count": 37,
   "id": "7ed00f26",
   "metadata": {},
   "outputs": [
    {
     "name": "stdout",
     "output_type": "stream",
     "text": [
      "1--> 3--> Jagannath--> 5--> 7--> Soham--> 9--> None\n"
     ]
    }
   ],
   "source": [
    "l1.show_list()"
   ]
  },
  {
   "cell_type": "markdown",
   "id": "1371452a",
   "metadata": {},
   "source": [
    "## `sort the list using stack`"
   ]
  },
  {
   "cell_type": "code",
   "execution_count": 60,
   "id": "428aea84",
   "metadata": {},
   "outputs": [],
   "source": [
    "class Node:\n",
    "    def __init__(self, val):\n",
    "        self.data = val\n",
    "        self.next = None\n",
    "class Stack:\n",
    "    def __init__(self):\n",
    "        self.head = None\n",
    "        self.size = 0\n",
    "    \n",
    "    def isEmpty(self):\n",
    "        return self.size == 0\n",
    "    def peek(self):\n",
    "        if self.isEmpty() is True:\n",
    "            return \"Empty Stack\"\n",
    "        return self.head.data\n",
    "    def getSize(self):\n",
    "        return self.size\n",
    "    \n",
    "    def push(self, val):\n",
    "        newNode = Node(val)\n",
    "        newNode.next = self.head\n",
    "        self.head = newNode\n",
    "        self.size+=1\n",
    "    def pop(self):\n",
    "        if self.isEmpty() is True:\n",
    "            return \"Stack is Empty\"\n",
    "        else:\n",
    "            popped_value = self.peek()\n",
    "            self.head = self.head.next\n",
    "            self.size-=1\n",
    "        return popped_value"
   ]
  },
  {
   "cell_type": "code",
   "execution_count": 59,
   "id": "73efae36",
   "metadata": {},
   "outputs": [],
   "source": [
    "S1 = Stack()\n",
    "for i in range(ord(\"A\"),ord(\"F\")+1):\n",
    "    S1.push(chr(i))"
   ]
  },
  {
   "cell_type": "code",
   "execution_count": 44,
   "id": "bf129000",
   "metadata": {},
   "outputs": [
    {
     "data": {
      "text/plain": [
       "'F'"
      ]
     },
     "execution_count": 44,
     "metadata": {},
     "output_type": "execute_result"
    }
   ],
   "source": [
    "S1.peek()"
   ]
  },
  {
   "cell_type": "code",
   "execution_count": 45,
   "id": "cb9ac275",
   "metadata": {},
   "outputs": [
    {
     "name": "stdout",
     "output_type": "stream",
     "text": [
      "F\n",
      "E\n",
      "D\n",
      "C\n",
      "B\n",
      "A\n"
     ]
    }
   ],
   "source": [
    "for _ in range(S1.getSize()):\n",
    "    print(S1.pop())"
   ]
  },
  {
   "cell_type": "code",
   "execution_count": 46,
   "id": "f8c79761",
   "metadata": {},
   "outputs": [
    {
     "data": {
      "text/plain": [
       "'Empty Stack'"
      ]
     },
     "execution_count": 46,
     "metadata": {},
     "output_type": "execute_result"
    }
   ],
   "source": [
    "S1.peek()"
   ]
  },
  {
   "cell_type": "code",
   "execution_count": 64,
   "id": "c5119446",
   "metadata": {},
   "outputs": [
    {
     "name": "stdout",
     "output_type": "stream",
     "text": [
      "99\n",
      "5\n",
      "3\n",
      "2\n",
      "0\n",
      "-1\n"
     ]
    },
    {
     "data": {
      "text/plain": [
       "-1"
      ]
     },
     "execution_count": 64,
     "metadata": {},
     "output_type": "execute_result"
    }
   ],
   "source": [
    "def sort_stack(stack):\n",
    "    l = []\n",
    "    for _ in range(stack.getSize()):\n",
    "        l.append(stack.pop())\n",
    "    l.sort(reverse=True)\n",
    "    for i in l:\n",
    "        stack.push(i)\n",
    "        print(stack.peek())\n",
    "    return stack.peek()\n"
   ]
  },
  {
   "cell_type": "code",
   "execution_count": 61,
   "id": "f1210bf3",
   "metadata": {},
   "outputs": [],
   "source": [
    "S1 = Stack()\n",
    "S1.push(5)\n",
    "S1.push(3)\n",
    "S1.push(-1)\n",
    "S1.push(0)\n",
    "S1.push(99)\n",
    "S1.push(2)"
   ]
  },
  {
   "cell_type": "code",
   "execution_count": 62,
   "id": "125df809",
   "metadata": {},
   "outputs": [
    {
     "data": {
      "text/plain": [
       "2"
      ]
     },
     "execution_count": 62,
     "metadata": {},
     "output_type": "execute_result"
    }
   ],
   "source": [
    "S1.peek()"
   ]
  },
  {
   "cell_type": "code",
   "execution_count": 63,
   "id": "d64bc31d",
   "metadata": {},
   "outputs": [
    {
     "name": "stdout",
     "output_type": "stream",
     "text": [
      "99\n",
      "5\n",
      "3\n",
      "2\n",
      "0\n",
      "-1\n"
     ]
    },
    {
     "data": {
      "text/plain": [
       "-1"
      ]
     },
     "execution_count": 63,
     "metadata": {},
     "output_type": "execute_result"
    }
   ],
   "source": [
    "sort_stack(S1)"
   ]
  },
  {
   "cell_type": "code",
   "execution_count": null,
   "id": "4dd17098",
   "metadata": {},
   "outputs": [],
   "source": []
  }
 ],
 "metadata": {
  "kernelspec": {
   "display_name": "Python 3 (ipykernel)",
   "language": "python",
   "name": "python3"
  },
  "language_info": {
   "codemirror_mode": {
    "name": "ipython",
    "version": 3
   },
   "file_extension": ".py",
   "mimetype": "text/x-python",
   "name": "python",
   "nbconvert_exporter": "python",
   "pygments_lexer": "ipython3",
   "version": "3.10.1"
  }
 },
 "nbformat": 4,
 "nbformat_minor": 5
}
